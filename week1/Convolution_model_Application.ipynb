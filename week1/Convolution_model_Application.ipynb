{
 "cells": [
  {
   "cell_type": "markdown",
   "metadata": {},
   "source": [
    "# Convolutional Neural Networks: Application\n",
    "\n",
    "Welcome to Course 4's second assignment! In this notebook, you will:\n",
    "\n",
    "- Create a mood classifer using the TF Keras Sequential API\n",
    "- Build a ConvNet to identify sign language digits using the TF Keras Functional API\n",
    "\n",
    "**After this assignment you will be able to:**\n",
    "\n",
    "- Build and train a ConvNet in TensorFlow for a __binary__ classification problem\n",
    "- Build and train a ConvNet in TensorFlow for a __multiclass__ classification problem\n",
    "- Explain different use cases for the Sequential and Functional APIs\n",
    "\n",
    "To complete this assignment, you should already be familiar with TensorFlow. If you are not, please refer back to the **TensorFlow Tutorial** of the third week of Course 2 (\"**Improving deep neural networks**\")."
   ]
  },
  {
   "cell_type": "markdown",
   "metadata": {},
   "source": [
    "## Table of Contents\n",
    "\n",
    "- [1 - Packages](#1)\n",
    "    - [1.1 - Load the Data and Split the Data into Train/Test Sets](#1-1)\n",
    "- [2 - Layers in TF Keras](#2)\n",
    "- [3 - The Sequential API](#3)\n",
    "    - [3.1 - Create the Sequential Model](#3-1)\n",
    "        - [Exercise 1 - happyModel](#ex-1)\n",
    "    - [3.2 - Train and Evaluate the Model](#3-2)\n",
    "- [4 - The Functional API](#4)\n",
    "    - [4.1 - Load the SIGNS Dataset](#4-1)\n",
    "    - [4.2 - Split the Data into Train/Test Sets](#4-2)\n",
    "    - [4.3 - Forward Propagation](#4-3)\n",
    "        - [Exercise 2 - convolutional_model](#ex-2)\n",
    "    - [4.4 - Train the Model](#4-4)\n",
    "- [5 - History Object](#5)\n",
    "- [6 - Bibliography](#6)"
   ]
  },
  {
   "cell_type": "markdown",
   "metadata": {},
   "source": [
    "<a name='1'></a>\n",
    "## 1 - Packages\n",
    "\n",
    "As usual, begin by loading in the packages."
   ]
  },
  {
   "cell_type": "code",
   "execution_count": 57,
   "metadata": {},
   "outputs": [],
   "source": [
    "import math\n",
    "import numpy as np\n",
    "import h5py\n",
    "import matplotlib.pyplot as plt\n",
    "from matplotlib.pyplot import imread\n",
    "import scipy\n",
    "from PIL import Image\n",
    "import pandas as pd\n",
    "import tensorflow as tf\n",
    "import tensorflow.keras.layers as tfl\n",
    "from tensorflow.python.framework import ops\n",
    "from cnn_utils import *\n",
    "from test_utils import summary, comparator\n",
    "\n",
    "%matplotlib inline\n",
    "np.random.seed(1)"
   ]
  },
  {
   "cell_type": "code",
   "execution_count": 58,
   "metadata": {},
   "outputs": [
    {
     "name": "stdout",
     "output_type": "stream",
     "text": [
      "2.3.0\n"
     ]
    }
   ],
   "source": [
    "print(tf.__version__)"
   ]
  },
  {
   "cell_type": "markdown",
   "metadata": {},
   "source": [
    "<a name='1-1'></a>\n",
    "### 1.1 - Load the Data and Split the Data into Train/Test Sets\n",
    "\n",
    "You'll be using the Happy House dataset for this part of the assignment, which contains images of peoples' faces. Your task will be to build a ConvNet that determines whether the people in the images are smiling or not -- because they only get to enter the house if they're smiling!  "
   ]
  },
  {
   "cell_type": "code",
   "execution_count": 59,
   "metadata": {},
   "outputs": [
    {
     "name": "stdout",
     "output_type": "stream",
     "text": [
      "number of training examples = 600\n",
      "number of test examples = 150\n",
      "X_train shape: (600, 64, 64, 3)\n",
      "Y_train shape: (600, 1)\n",
      "X_test shape: (150, 64, 64, 3)\n",
      "Y_test shape: (150, 1)\n"
     ]
    }
   ],
   "source": [
    "X_train_orig, Y_train_orig, X_test_orig, Y_test_orig, classes = load_happy_dataset()\n",
    "\n",
    "# Normalize image vectors\n",
    "X_train = X_train_orig/255.\n",
    "X_test = X_test_orig/255.\n",
    "\n",
    "# Reshape\n",
    "Y_train = Y_train_orig.T\n",
    "Y_test = Y_test_orig.T\n",
    "\n",
    "print (\"number of training examples = \" + str(X_train.shape[0]))\n",
    "print (\"number of test examples = \" + str(X_test.shape[0]))\n",
    "print (\"X_train shape: \" + str(X_train.shape))\n",
    "print (\"Y_train shape: \" + str(Y_train.shape))\n",
    "print (\"X_test shape: \" + str(X_test.shape))\n",
    "print (\"Y_test shape: \" + str(Y_test.shape))"
   ]
  },
  {
   "cell_type": "markdown",
   "metadata": {},
   "source": [
    "You can display the images contained in the dataset. Images are **64x64** pixels in RGB format (3 channels)."
   ]
  },
  {
   "cell_type": "code",
   "execution_count": 60,
   "metadata": {},
   "outputs": [
    {
     "data": {
      "image/png": "[encoded data removed]",
      "text/plain": [
       "<Figure size 432x288 with 1 Axes>"
      ]
     },
     "metadata": {
      "needs_background": "light"
     },
     "output_type": "display_data"
    }
   ],
   "source": [
    "index = 124\n",
    "plt.imshow(X_train_orig[index]) #display sample training image\n",
    "plt.show()"
   ]
  },
  {
   "cell_type": "markdown",
   "metadata": {},
   "source": [
    "<a name='2'></a>\n",
    "## 2 - Layers in TF Keras \n",
    "\n",
    "In the previous assignment, you created layers manually in numpy. In TF Keras, you don't have to write code directly to create layers. Rather, TF Keras has pre-defined layers you can use. \n",
    "\n",
    "When you create a layer in TF Keras, you are creating a function that takes some input and transforms it into an output you can reuse later. Nice and easy! "
   ]
  },
  {
   "cell_type": "markdown",
   "metadata": {},
   "source": [
    "<a name='3'></a>\n",
    "## 3 - The Sequential API\n",
    "\n",
    "In the previous assignment, you built helper functions using `numpy` to understand the mechanics behind convolutional neural networks. Most practical applications of deep learning today are built using programming frameworks, which have many built-in functions you can simply call. Keras is a high-level abstraction built on top of TensorFlow, which allows for even more simplified and optimized model creation and training. \n",
    "\n",
    "For the first part of this assignment, you'll create a model using TF Keras' Sequential API, which allows you to build layer by layer, and is ideal for building models where each layer has **exactly one** input tensor and **one** output tensor. \n",
    "\n",
    "As you'll see, using the Sequential API is simple and straightforward, but is only appropriate for simpler, more straightforward tasks. Later in this notebook you'll spend some time building with a more flexible, powerful alternative: the Functional API. \n",
    " "
   ]
  },
  {
   "cell_type": "markdown",
   "metadata": {},
   "source": [
    "<a name='3-1'></a>\n",
    "### 3.1 - Create the Sequential Model\n",
    "\n",
    "As mentioned earlier, the TensorFlow Keras Sequential API can be used to build simple models with layer operations that proceed in a sequential order. \n",
    "\n",
    "You can also add layers incrementally to a Sequential model with the `.add()` method, or remove them using the `.pop()` method, much like you would in a regular Python list.\n",
    "\n",
    "Actually, you can think of a Sequential model as behaving like a list of layers. Like Python lists, Sequential layers are ordered, and the order in which they are specified matters.  If your model is non-linear or contains layers with multiple inputs or outputs, a Sequential model wouldn't be the right choice!\n",
    "\n",
    "For any layer construction in Keras, you'll need to specify the input shape in advance. This is because in Keras, the shape of the weights is based on the shape of the inputs. The weights are only created when the model first sees some input data. Sequential models can be created by passing a list of layers to the Sequential constructor, like you will do in the next assignment.\n",
    "\n",
    "<a name='ex-1'></a>\n",
    "### Exercise 1 - happyModel\n",
    "\n",
    "Implement the `happyModel` function below to build the following model: `ZEROPAD2D -> CONV2D -> BATCHNORM -> RELU -> MAXPOOL -> FLATTEN -> DENSE`. Take help from [tf.keras.layers](https://www.tensorflow.org/api_docs/python/tf/keras/layers) \n",
    "\n",
    "Also, plug in the following parameters for all the steps:\n",
    "\n",
    " - [ZeroPadding2D](https://www.tensorflow.org/api_docs/python/tf/keras/layers/ZeroPadding2D): padding 3, input shape 64 x 64 x 3\n",
    " - [Conv2D](https://www.tensorflow.org/api_docs/python/tf/keras/layers/Conv2D): Use 32 7x7 filters, stride 1\n",
    " - [BatchNormalization](https://www.tensorflow.org/api_docs/python/tf/keras/layers/BatchNormalization): for axis 3\n",
    " - [ReLU](https://www.tensorflow.org/api_docs/python/tf/keras/layers/ReLU)\n",
    " - [MaxPool2D](https://www.tensorflow.org/api_docs/python/tf/keras/layers/MaxPool2D): Using default parameters\n",
    " - [Flatten](https://www.tensorflow.org/api_docs/python/tf/keras/layers/Flatten) the previous output.\n",
    " - Fully-connected ([Dense](https://www.tensorflow.org/api_docs/python/tf/keras/layers/Dense)) layer: Apply a fully connected layer with 1 neuron and a sigmoid activation. \n",
    " \n",
    " \n",
    " **Hint:**\n",
    " \n",
    " Use **tfl** as shorthand for **tensorflow.keras.layers**"
   ]
  },
  {
   "cell_type": "code",
   "execution_count": 61,
   "metadata": {
    "deletable": false,
    "nbgrader": {
     "cell_type": "code",
     "checksum": "95d28b191f257bdd5b70c7b8952559d5",
     "grade": false,
     "grade_id": "cell-0e56d3fc28b69aec",
     "locked": false,
     "schema_version": 3,
     "solution": true,
     "task": false
    }
   },
   "outputs": [],
   "source": [
    "# GRADED FUNCTION: happyModel\n",
    "def happyModel():\n",
    "    \"\"\"\n",
    "    Implements the forward propagation for the binary classification model:\n",
    "    ZEROPAD2D -> CONV2D -> BATCHNORM -> RELU -> MAXPOOL -> FLATTEN -> DENSE\n",
    "    \n",
    "    Note that for simplicity and grading purposes, you'll hard-code all the values\n",
    "    such as the stride and kernel (filter) sizes. \n",
    "    Normally, functions should take these values as function parameters.\n",
    "    \n",
    "    Arguments:\n",
    "    None\n",
    "\n",
    "    Returns:\n",
    "    model -- TF Keras model (object containing the information for the entire training process) \n",
    "    \"\"\"\n",
    "    model = tf.keras.Sequential([\n",
    "            ## ZeroPadding2D with padding 3, input shape of 64 x 64 x 3\n",
    "            tfl.ZeroPadding2D(padding=3,input_shape = (64,64,3)),\n",
    "            ## Conv2D with 32 7x7 filters and stride of 1\n",
    "            tfl.Conv2D(32,7,1,padding='valid'),\n",
    "            ## BatchNormalization for axis 3\n",
    "            tfl.BatchNormalization(axis=3, momentum=0.99, epsilon=0.001),\n",
    "            ## ReLU\n",
    "            tfl.ReLU(max_value=0, negative_slope=0, threshold=0),\n",
    "            ## Max Pooling 2D with default parameters\n",
    "            tfl.MaxPool2D(\n",
    "    pool_size=(2, 2), strides=None, padding='valid'),\n",
    "            ## Flatten layer\n",
    "            tfl.Flatten(),\n",
    "            ## Dense layer with 1 unit for output & 'sigmoid' activation\n",
    "            tfl.Dense(\n",
    "    1, activation='sigmoid'),\n",
    "            # YOUR CODE STARTS HERE\n",
    "            \n",
    "           \n",
    "            # YOUR CODE ENDS HERE\n",
    "        ])\n",
    "    \n",
    "    return model"
   ]
  },
  {
   "cell_type": "code",
   "execution_count": 62,
   "metadata": {
    "deletable": false,
    "editable": false,
    "nbgrader": {
     "cell_type": "code",
     "checksum": "8d3575c950e2e78149be2d05d671c80d",
     "grade": true,
     "grade_id": "cell-e3e1046e5c33d775",
     "locked": true,
     "points": 10,
     "schema_version": 3,
     "solution": false,
     "task": false
    }
   },
   "outputs": [
    {
     "name": "stdout",
     "output_type": "stream",
     "text": [
      "['ZeroPadding2D', (None, 70, 70, 3), 0, ((3, 3), (3, 3))]\n",
      "['Conv2D', (None, 64, 64, 32), 4736, 'valid', 'linear', 'GlorotUniform']\n",
      "['BatchNormalization', (None, 64, 64, 32), 128]\n",
      "['ReLU', (None, 64, 64, 32), 0]\n",
      "['MaxPooling2D', (None, 32, 32, 32), 0, (2, 2), (2, 2), 'valid']\n",
      "['Flatten', (None, 32768), 0]\n",
      "['Dense', (None, 1), 32769, 'sigmoid']\n",
      "\u001b[32mAll tests passed!\u001b[0m\n"
     ]
    }
   ],
   "source": [
    "happy_model = happyModel()\n",
    "# Print a summary for each layer\n",
    "for layer in summary(happy_model):\n",
    "    print(layer)\n",
    "    \n",
    "output = [['ZeroPadding2D', (None, 70, 70, 3), 0, ((3, 3), (3, 3))],\n",
    "            ['Conv2D', (None, 64, 64, 32), 4736, 'valid', 'linear', 'GlorotUniform'],\n",
    "            ['BatchNormalization', (None, 64, 64, 32), 128],\n",
    "            ['ReLU', (None, 64, 64, 32), 0],\n",
    "            ['MaxPooling2D', (None, 32, 32, 32), 0, (2, 2), (2, 2), 'valid'],\n",
    "            ['Flatten', (None, 32768), 0],\n",
    "            ['Dense', (None, 1), 32769, 'sigmoid']]\n",
    "    \n",
    "comparator(summary(happy_model), output)"
   ]
  },
  {
   "cell_type": "markdown",
   "metadata": {},
   "source": [
    "Now that your model is created, you can compile it for training with an optimizer and loss of your choice. When the string `accuracy` is specified as a metric, the type of accuracy used will be automatically converted based on the loss function used. This is one of the many optimizations built into TensorFlow that make your life easier! If you'd like to read more on how the compiler operates, check the docs [here](https://www.tensorflow.org/api_docs/python/tf/keras/Model#compile)."
   ]
  },
  {
   "cell_type": "code",
   "execution_count": 63,
   "metadata": {},
   "outputs": [],
   "source": [
    "happy_model.compile(optimizer='adam',\n",
    "                   loss='binary_crossentropy',\n",
    "                   metrics=['accuracy'])"
   ]
  },
  {
   "cell_type": "markdown",
   "metadata": {},
   "source": [
    "It's time to check your model's parameters with the `.summary()` method. This will display the types of layers you have, the shape of the outputs, and how many parameters are in each layer. "
   ]
  },
  {
   "cell_type": "code",
   "execution_count": 64,
   "metadata": {},
   "outputs": [
    {
     "name": "stdout",
     "output_type": "stream",
     "text": [
      "Model: \"sequential_2\"\n",
      "_________________________________________________________________\n",
      "Layer (type)                 Output Shape              Param #   \n",
      "=================================================================\n",
      "zero_padding2d_2 (ZeroPaddin (None, 70, 70, 3)         0         \n",
      "_________________________________________________________________\n",
      "conv2d_22 (Conv2D)           (None, 64, 64, 32)        4736      \n",
      "_________________________________________________________________\n",
      "batch_normalization_2 (Batch (None, 64, 64, 32)        128       \n",
      "_________________________________________________________________\n",
      "re_lu_17 (ReLU)              (None, 64, 64, 32)        0         \n",
      "_________________________________________________________________\n",
      "max_pooling2d_17 (MaxPooling (None, 32, 32, 32)        0         \n",
      "_________________________________________________________________\n",
      "flatten_4 (Flatten)          (None, 32768)             0         \n",
      "_________________________________________________________________\n",
      "dense_5 (Dense)              (None, 1)                 32769     \n",
      "=================================================================\n",
      "Total params: 37,633\n",
      "Trainable params: 37,569\n",
      "Non-trainable params: 64\n",
      "_________________________________________________________________\n"
     ]
    }
   ],
   "source": [
    "\n",
    "\n",
    "happy_model.summary()"
   ]
  },
  {
   "cell_type": "markdown",
   "metadata": {},
   "source": [
    "<a name='3-2'></a>\n",
    "### 3.2 - Train and Evaluate the Model\n",
    "\n",
    "After creating the model, compiling it with your choice of optimizer and loss function, and doing a sanity check on its contents, you are now ready to build! \n",
    "\n",
    "Simply call `.fit()` to train. That's it! No need for mini-batching, saving, or complex backpropagation computations. That's all been done for you, as you're using a TensorFlow dataset with the batches specified already. You do have the option to specify epoch number or minibatch size if you like (for example, in the case of an un-batched dataset)."
   ]
  },
  {
   "cell_type": "code",
   "execution_count": 65,
   "metadata": {},
   "outputs": [
    {
     "name": "stdout",
     "output_type": "stream",
     "text": [
      "Epoch 1/10\n",
      "38/38 [==============================] - 11s 297ms/step - loss: 0.6932 - accuracy: 0.4700\n",
      "Epoch 2/10\n",
      "38/38 [==============================] - 11s 292ms/step - loss: 0.6932 - accuracy: 0.5000\n",
      "Epoch 3/10\n",
      "38/38 [==============================] - 11s 287ms/step - loss: 0.6932 - accuracy: 0.5000\n",
      "Epoch 4/10\n",
      "38/38 [==============================] - 11s 292ms/step - loss: 0.6932 - accuracy: 0.5000\n",
      "Epoch 5/10\n",
      "38/38 [==============================] - 11s 290ms/step - loss: 0.6932 - accuracy: 0.4867\n",
      "Epoch 6/10\n",
      "38/38 [==============================] - 11s 287ms/step - loss: 0.6932 - accuracy: 0.4900\n",
      "Epoch 7/10\n",
      "38/38 [==============================] - 11s 290ms/step - loss: 0.6933 - accuracy: 0.4800\n",
      "Epoch 8/10\n",
      "38/38 [==============================] - 11s 287ms/step - loss: 0.6932 - accuracy: 0.5000\n",
      "Epoch 9/10\n",
      "38/38 [==============================] - 11s 287ms/step - loss: 0.6932 - accuracy: 0.4767\n",
      "Epoch 10/10\n",
      "38/38 [==============================] - 11s 282ms/step - loss: 0.6932 - accuracy: 0.4733\n"
     ]
    },
    {
     "data": {
      "text/plain": [
       "<tensorflow.python.keras.callbacks.History at 0x7f3d3958d090>"
      ]
     },
     "execution_count": 65,
     "metadata": {},
     "output_type": "execute_result"
    }
   ],
   "source": [
    "happy_model.fit(X_train, Y_train, epochs=10, batch_size=16)"
   ]
  },
  {
   "cell_type": "markdown",
   "metadata": {},
   "source": [
    "After that completes, just use `.evaluate()` to evaluate against your test set. This function will print the value of the loss function and the performance metrics specified during the compilation of the model. In this case, the `binary_crossentropy` and the `accuracy` respectively."
   ]
  },
  {
   "cell_type": "code",
   "execution_count": 66,
   "metadata": {},
   "outputs": [
    {
     "name": "stdout",
     "output_type": "stream",
     "text": [
      "5/5 [==============================] - 1s 122ms/step - loss: 0.6931 - accuracy: 0.5600\n"
     ]
    },
    {
     "data": {
      "text/plain": [
       "[0.6931373429298401, 0.56]"
      ]
     },
     "execution_count": 66,
     "metadata": {},
     "output_type": "execute_result"
    }
   ],
   "source": [
    "happy_model.evaluate(X_test, Y_test)"
   ]
  },
  {
   "cell_type": "markdown",
   "metadata": {},
   "source": [
    "Easy, right? But what if you need to build a model with shared layers, branches, or multiple inputs and outputs? This is where Sequential, with its beautifully simple yet limited functionality, won't be able to help you. \n",
    "\n",
    "Next up: Enter the Functional API, your slightly more complex, highly flexible friend.  "
   ]
  },
  {
   "cell_type": "markdown",
   "metadata": {},
   "source": [
    "<a name='4'></a>\n",
    "## 4 - The Functional API"
   ]
  },
  {
   "cell_type": "markdown",
   "metadata": {},
   "source": [
    "Welcome to the second half of the assignment, where you'll use Keras' flexible [Functional API](https://www.tensorflow.org/guide/keras/functional) to build a ConvNet that can differentiate between 6 sign language digits. \n",
    "\n",
    "The Functional API can handle models with non-linear topology, shared layers, as well as layers with multiple inputs or outputs. Imagine that, where the Sequential API requires the model to move in a linear fashion through its layers, the Functional API allows much more flexibility. Where Sequential is a straight line, a Functional model is a graph, where the nodes of the layers can connect in many more ways than one. \n",
    "\n",
    "In the visual example below, the one possible direction of the movement Sequential model is shown in contrast to a skip connection, which is just one of the many ways a Functional model can be constructed. A skip connection, as you might have guessed, skips some layer in the network and feeds the output to a later layer in the network. Don't worry, you'll be spending more time with skip connections very soon! "
   ]
  },
  {
   "cell_type": "markdown",
   "metadata": {},
   "source": [
    "<img src=\"images/seq_vs_func.png\" style=\"width:350px;height:200px;\">"
   ]
  },
  {
   "cell_type": "markdown",
   "metadata": {},
   "source": [
    "<a name='4-1'></a>\n",
    "### 4.1 - Load the SIGNS Dataset\n",
    "\n",
    "As a reminder, the SIGNS dataset is a collection of 6 signs representing numbers from 0 to 5."
   ]
  },
  {
   "cell_type": "code",
   "execution_count": 67,
   "metadata": {},
   "outputs": [],
   "source": [
    "# Loading the data (signs)\n",
    "X_train_orig, Y_train_orig, X_test_orig, Y_test_orig, classes = load_signs_dataset()"
   ]
  },
  {
   "cell_type": "markdown",
   "metadata": {},
   "source": [
    "<img src=\"images/SIGNS.png\" style=\"width:800px;height:300px;\">\n",
    "\n",
    "The next cell will show you an example of a labelled image in the dataset. Feel free to change the value of `index` below and re-run to see different examples. "
   ]
  },
  {
   "cell_type": "code",
   "execution_count": 68,
   "metadata": {},
   "outputs": [
    {
     "name": "stdout",
     "output_type": "stream",
     "text": [
      "y = 4\n"
     ]
    },
    {
     "data": {
      "image/png": "[encoded data removed]",
      "text/plain": [
       "<Figure size 432x288 with 1 Axes>"
      ]
     },
     "metadata": {
      "needs_background": "light"
     },
     "output_type": "display_data"
    }
   ],
   "source": [
    "# Example of an image from the dataset\n",
    "index = 9\n",
    "plt.imshow(X_train_orig[index])\n",
    "print (\"y = \" + str(np.squeeze(Y_train_orig[:, index])))"
   ]
  },
  {
   "cell_type": "markdown",
   "metadata": {},
   "source": [
    "<a name='4-2'></a>\n",
    "### 4.2 - Split the Data into Train/Test Sets\n",
    "\n",
    "In Course 2, you built a fully-connected network for this dataset. But since this is an image dataset, it is more natural to apply a ConvNet to it.\n",
    "\n",
    "To get started, let's examine the shapes of your data. "
   ]
  },
  {
   "cell_type": "code",
   "execution_count": 69,
   "metadata": {},
   "outputs": [
    {
     "name": "stdout",
     "output_type": "stream",
     "text": [
      "number of training examples = 1080\n",
      "number of test examples = 120\n",
      "X_train shape: (1080, 64, 64, 3)\n",
      "Y_train shape: (1080, 6)\n",
      "X_test shape: (120, 64, 64, 3)\n",
      "Y_test shape: (120, 6)\n"
     ]
    }
   ],
   "source": [
    "X_train = X_train_orig/255.\n",
    "X_test = X_test_orig/255.\n",
    "Y_train = convert_to_one_hot(Y_train_orig, 6).T\n",
    "Y_test = convert_to_one_hot(Y_test_orig, 6).T\n",
    "print (\"number of training examples = \" + str(X_train.shape[0]))\n",
    "print (\"number of test examples = \" + str(X_test.shape[0]))\n",
    "print (\"X_train shape: \" + str(X_train.shape))\n",
    "print (\"Y_train shape: \" + str(Y_train.shape))\n",
    "print (\"X_test shape: \" + str(X_test.shape))\n",
    "print (\"Y_test shape: \" + str(Y_test.shape))"
   ]
  },
  {
   "cell_type": "markdown",
   "metadata": {},
   "source": [
    "<a name='4-3'></a>\n",
    "### 4.3 - Forward Propagation\n",
    "\n",
    "In TensorFlow, there are built-in functions that implement the convolution steps for you. By now, you should be familiar with how TensorFlow builds computational graphs. In the [Functional API](https://www.tensorflow.org/guide/keras/functional), you create a graph of layers. This is what allows such great flexibility.\n",
    "\n",
    "However, the following model could also be defined using the Sequential API since the information flow is on a single line. But don't deviate. What we want you to learn is to use the functional API.\n",
    "\n",
    "Begin building your graph of layers by creating an input node that functions as a callable object:\n",
    "\n",
    "- **input_img = tf.keras.Input(shape=input_shape):** \n",
    "\n",
    "Then, create a new node in the graph of layers by calling a layer on the `input_img` object: \n",
    "\n",
    "- **tf.keras.layers.Conv2D(filters= ... , kernel_size= ... , padding='same')(input_img):** Read the full documentation on [Conv2D](https://www.tensorflow.org/api_docs/python/tf/keras/layers/Conv2D).\n",
    "\n",
    "- **tf.keras.layers.MaxPool2D(pool_size=(f, f), strides=(s, s), padding='same'):** `MaxPool2D()` downsamples your input using a window of size (f, f) and strides of size (s, s) to carry out max pooling over each window.  For max pooling, you usually operate on a single example at a time and a single channel at a time. Read the full documentation on [MaxPool2D](https://www.tensorflow.org/api_docs/python/tf/keras/layers/MaxPool2D).\n",
    "\n",
    "- **tf.keras.layers.ReLU():** computes the elementwise ReLU of Z (which can be any shape). You can read the full documentation on [ReLU](https://www.tensorflow.org/api_docs/python/tf/keras/layers/ReLU).\n",
    "\n",
    "- **tf.keras.layers.Flatten()**: given a tensor \"P\", this function takes each training (or test) example in the batch and flattens it into a 1D vector.  \n",
    "\n",
    "    * If a tensor P has the shape (batch_size,h,w,c), it returns a flattened tensor with shape (batch_size, k), where $k=h \\times w \\times c$.  \"k\" equals the product of all the dimension sizes other than the first dimension.\n",
    "    \n",
    "    * For example, given a tensor with dimensions [100, 2, 3, 4], it flattens the tensor to be of shape [100, 24], where 24 = 2 * 3 * 4.  You can read the full documentation on [Flatten](https://www.tensorflow.org/api_docs/python/tf/keras/layers/Flatten).\n",
    "\n",
    "- **tf.keras.layers.Dense(units= ... , activation='softmax')(F):** given the flattened input F, it returns the output computed using a fully connected layer. You can read the full documentation on [Dense](https://www.tensorflow.org/api_docs/python/tf/keras/layers/Dense).\n",
    "\n",
    "In the last function above (`tf.keras.layers.Dense()`), the fully connected layer automatically initializes weights in the graph and keeps on training them as you train the model. Hence, you did not need to initialize those weights when initializing the parameters.\n",
    "\n",
    "Lastly, before creating the model, you'll need to define the output using the last of the function's compositions (in this example, a Dense layer): \n",
    "\n",
    "- **outputs = tf.keras.layers.Dense(units=6, activation='softmax')(F)**\n",
    "\n",
    "\n",
    "#### Window, kernel, filter, pool\n",
    "\n",
    "The words \"kernel\" and \"filter\" are used to refer to the same thing. The word \"filter\" accounts for the amount of \"kernels\" that will be used in a single convolution layer. \"Pool\" is the name of the operation that takes the max or average value of the kernels. \n",
    "\n",
    "This is why the parameter `pool_size` refers to `kernel_size`, and you use `(f,f)` to refer to the filter size. \n",
    "\n",
    "Pool size and kernel size refer to the same thing in different objects - They refer to the shape of the window where the operation takes place. "
   ]
  },
  {
   "cell_type": "markdown",
   "metadata": {},
   "source": [
    "<a name='ex-2'></a>\n",
    "### Exercise 2 - convolutional_model\n",
    "\n",
    "Implement the `convolutional_model` function below to build the following model: `CONV2D -> RELU -> MAXPOOL -> CONV2D -> RELU -> MAXPOOL -> FLATTEN -> DENSE`. Use the functions above! \n",
    "\n",
    "Also, plug in the following parameters for all the steps:\n",
    "\n",
    " - [Conv2D](https://www.tensorflow.org/api_docs/python/tf/keras/layers/Conv2D): Use 8 4 by 4 filters, stride 1, padding is \"SAME\"\n",
    " - [ReLU](https://www.tensorflow.org/api_docs/python/tf/keras/layers/ReLU)\n",
    " - [MaxPool2D](https://www.tensorflow.org/api_docs/python/tf/keras/layers/MaxPool2D): Use an 8 by 8 filter size and an 8 by 8 stride, padding is \"SAME\"\n",
    " - **Conv2D**: Use 16 2 by 2 filters, stride 1, padding is \"SAME\"\n",
    " - **ReLU**\n",
    " - **MaxPool2D**: Use a 4 by 4 filter size and a 4 by 4 stride, padding is \"SAME\"\n",
    " - [Flatten](https://www.tensorflow.org/api_docs/python/tf/keras/layers/Flatten) the previous output.\n",
    " - Fully-connected ([Dense](https://www.tensorflow.org/api_docs/python/tf/keras/layers/Dense)) layer: Apply a fully connected layer with 6 neurons and a softmax activation. "
   ]
  },
  {
   "cell_type": "code",
   "execution_count": 70,
   "metadata": {
    "deletable": false,
    "nbgrader": {
     "cell_type": "code",
     "checksum": "f58643806aa8380c96225fc8b4c5e7aa",
     "grade": false,
     "grade_id": "cell-dac51744a9e03f51",
     "locked": false,
     "schema_version": 3,
     "solution": true,
     "task": false
    }
   },
   "outputs": [],
   "source": [
    "# GRADED FUNCTION: convolutional_model\n",
    "\n",
    "def convolutional_model(input_shape):\n",
    "    \"\"\"\n",
    "    Implements the forward propagation for the model:\n",
    "    CONV2D -> RELU -> MAXPOOL -> CONV2D -> RELU -> MAXPOOL -> FLATTEN -> DENSE\n",
    "    \n",
    "    Note that for simplicity and grading purposes, you'll hard-code some values\n",
    "    such as the stride and kernel (filter) sizes. \n",
    "    Normally, functions should take these values as function parameters.\n",
    "    \n",
    "    Arguments:\n",
    "    input_img -- input dataset, of shape (input_shape)\n",
    "\n",
    "    Returns:\n",
    "    model -- TF Keras model (object containing the information for the entire training process) \n",
    "    \"\"\"\n",
    "\n",
    "    input_img = tf.keras.Input(shape=input_shape)\n",
    "    ## CONV2D: 8 filters 4x4, stride of 1, padding 'SAME'\n",
    "    Z1 = tfl.Conv2D(8,4,1, padding='same')(input_img)\n",
    "    print(Z1)\n",
    "    ## RELU\n",
    "    A1 = tfl.ReLU(max_value=None, negative_slope=0, threshold=0)(Z1)\n",
    "    print(A1)\n",
    "    ## MAXPOOL: window 8x8, stride 8, padding 'SAME'\n",
    "    P1 = tfl.MaxPool2D(pool_size=(8,8), strides=8, padding='same')(A1)\n",
    "    print(P1)\n",
    "    ## CONV2D: 16 filters 2x2, stride 1, padding 'SAME'\n",
    "    Z2 = tfl.Conv2D(filters=16 , kernel_size= 2 ,strides=(1,1), padding='same')(P1)\n",
    "    print(Z2)\n",
    "    ## RELU\n",
    "    A2 = tfl.ReLU(max_value=None, negative_slope=0, threshold=0)(Z2)\n",
    "    print(A2)\n",
    "    ## MAXPOOL: window 4x4, stride 4, padding 'SAME'\n",
    "    P2 = tfl.MaxPool2D(pool_size=(4,4), strides=(4,4), padding='same')(A2)\n",
    "    print(P2)\n",
    "    ## FLATTEN\n",
    "    F = tfl.Flatten()(P2)\n",
    "    ## Dense layer\n",
    "    ## 6 neurons in output layer. Hint: one of the arguments should be \"activation='softmax'\" \n",
    "    outputs = tfl.Dense(units=6, activation='softmax')(F)\n",
    "    # YOUR CODE STARTS HERE\n",
    "    \n",
    "    \n",
    "    # YOUR CODE ENDS HERE\n",
    "    model = tf.keras.Model(inputs=input_img, outputs=outputs)\n",
    "    return model"
   ]
  },
  {
   "cell_type": "code",
   "execution_count": 71,
   "metadata": {
    "deletable": false,
    "editable": false,
    "nbgrader": {
     "cell_type": "code",
     "checksum": "483d626949930a0b0ef20997e7c6ba72",
     "grade": true,
     "grade_id": "cell-45d22e92042174c9",
     "locked": true,
     "points": 10,
     "schema_version": 3,
     "solution": false,
     "task": false
    }
   },
   "outputs": [
    {
     "name": "stdout",
     "output_type": "stream",
     "text": [
      "Tensor(\"conv2d_23/BiasAdd:0\", shape=(None, 64, 64, 8), dtype=float64)\n",
      "Tensor(\"re_lu_18/Relu:0\", shape=(None, 64, 64, 8), dtype=float64)\n",
      "Tensor(\"max_pooling2d_18/MaxPool:0\", shape=(None, 8, 8, 8), dtype=float64)\n",
      "Tensor(\"conv2d_24/BiasAdd:0\", shape=(None, 8, 8, 16), dtype=float64)\n",
      "Tensor(\"re_lu_19/Relu:0\", shape=(None, 8, 8, 16), dtype=float64)\n",
      "Tensor(\"max_pooling2d_19/MaxPool:0\", shape=(None, 2, 2, 16), dtype=float64)\n",
      "Model: \"functional_5\"\n",
      "_________________________________________________________________\n",
      "Layer (type)                 Output Shape              Param #   \n",
      "=================================================================\n",
      "input_12 (InputLayer)        [(None, 64, 64, 3)]       0         \n",
      "_________________________________________________________________\n",
      "conv2d_23 (Conv2D)           (None, 64, 64, 8)         392       \n",
      "_________________________________________________________________\n",
      "re_lu_18 (ReLU)              (None, 64, 64, 8)         0         \n",
      "_________________________________________________________________\n",
      "max_pooling2d_18 (MaxPooling (None, 8, 8, 8)           0         \n",
      "_________________________________________________________________\n",
      "conv2d_24 (Conv2D)           (None, 8, 8, 16)          528       \n",
      "_________________________________________________________________\n",
      "re_lu_19 (ReLU)              (None, 8, 8, 16)          0         \n",
      "_________________________________________________________________\n",
      "max_pooling2d_19 (MaxPooling (None, 2, 2, 16)          0         \n",
      "_________________________________________________________________\n",
      "flatten_5 (Flatten)          (None, 64)                0         \n",
      "_________________________________________________________________\n",
      "dense_6 (Dense)              (None, 6)                 390       \n",
      "=================================================================\n",
      "Total params: 1,310\n",
      "Trainable params: 1,310\n",
      "Non-trainable params: 0\n",
      "_________________________________________________________________\n",
      "\u001b[32mAll tests passed!\u001b[0m\n"
     ]
    }
   ],
   "source": [
    "conv_model = convolutional_model((64, 64, 3))\n",
    "conv_model.compile(optimizer='adam',\n",
    "                  loss='categorical_crossentropy',\n",
    "                  metrics=['accuracy'])\n",
    "conv_model.summary()\n",
    "    \n",
    "output = [['InputLayer', [(None, 64, 64, 3)], 0],\n",
    "        ['Conv2D', (None, 64, 64, 8), 392, 'same', 'linear', 'GlorotUniform'],\n",
    "        ['ReLU', (None, 64, 64, 8), 0],\n",
    "        ['MaxPooling2D', (None, 8, 8, 8), 0, (8, 8), (8, 8), 'same'],\n",
    "        ['Conv2D', (None, 8, 8, 16), 528, 'same', 'linear', 'GlorotUniform'],\n",
    "        ['ReLU', (None, 8, 8, 16), 0],\n",
    "        ['MaxPooling2D', (None, 2, 2, 16), 0, (4, 4), (4, 4), 'same'],\n",
    "        ['Flatten', (None, 64), 0],\n",
    "        ['Dense', (None, 6), 390, 'softmax']]\n",
    "    \n",
    "comparator(summary(conv_model), output)"
   ]
  },
  {
   "cell_type": "markdown",
   "metadata": {},
   "source": [
    "Both the Sequential and Functional APIs return a TF Keras model object. The only difference is how inputs are handled inside the object model! "
   ]
  },
  {
   "cell_type": "markdown",
   "metadata": {},
   "source": [
    "<a name='4-4'></a>\n",
    "### 4.4 - Train the Model"
   ]
  },
  {
   "cell_type": "code",
   "execution_count": 72,
   "metadata": {},
   "outputs": [
    {
     "name": "stdout",
     "output_type": "stream",
     "text": [
      "Epoch 1/100\n",
      "17/17 [==============================] - 2s 134ms/step - loss: 1.9024 - accuracy: 0.1667 - val_loss: 1.7993 - val_accuracy: 0.1500\n",
      "Epoch 2/100\n",
      "17/17 [==============================] - 2s 130ms/step - loss: 1.7912 - accuracy: 0.1583 - val_loss: 1.7834 - val_accuracy: 0.2167\n",
      "Epoch 3/100\n",
      "17/17 [==============================] - 2s 129ms/step - loss: 1.7847 - accuracy: 0.2037 - val_loss: 1.7812 - val_accuracy: 0.2667\n",
      "Epoch 4/100\n",
      "17/17 [==============================] - 2s 124ms/step - loss: 1.7810 - accuracy: 0.2731 - val_loss: 1.7782 - val_accuracy: 0.2583\n",
      "Epoch 5/100\n",
      "17/17 [==============================] - 2s 129ms/step - loss: 1.7783 - accuracy: 0.2796 - val_loss: 1.7750 - val_accuracy: 0.2833\n",
      "Epoch 6/100\n",
      "17/17 [==============================] - 2s 129ms/step - loss: 1.7751 - accuracy: 0.3019 - val_loss: 1.7711 - val_accuracy: 0.3583\n",
      "Epoch 7/100\n",
      "17/17 [==============================] - 2s 129ms/step - loss: 1.7712 - accuracy: 0.3352 - val_loss: 1.7669 - val_accuracy: 0.4083\n",
      "Epoch 8/100\n",
      "17/17 [==============================] - 2s 129ms/step - loss: 1.7665 - accuracy: 0.3694 - val_loss: 1.7618 - val_accuracy: 0.3750\n",
      "Epoch 9/100\n",
      "17/17 [==============================] - 2s 124ms/step - loss: 1.7608 - accuracy: 0.3861 - val_loss: 1.7553 - val_accuracy: 0.4083\n",
      "Epoch 10/100\n",
      "17/17 [==============================] - 2s 130ms/step - loss: 1.7534 - accuracy: 0.4296 - val_loss: 1.7478 - val_accuracy: 0.4917\n",
      "Epoch 11/100\n",
      "17/17 [==============================] - 2s 129ms/step - loss: 1.7445 - accuracy: 0.4546 - val_loss: 1.7389 - val_accuracy: 0.4833\n",
      "Epoch 12/100\n",
      "17/17 [==============================] - 2s 129ms/step - loss: 1.7338 - accuracy: 0.4611 - val_loss: 1.7276 - val_accuracy: 0.4750\n",
      "Epoch 13/100\n",
      "17/17 [==============================] - 2s 124ms/step - loss: 1.7209 - accuracy: 0.4630 - val_loss: 1.7111 - val_accuracy: 0.4917\n",
      "Epoch 14/100\n",
      "17/17 [==============================] - 2s 129ms/step - loss: 1.7036 - accuracy: 0.4880 - val_loss: 1.6949 - val_accuracy: 0.5000\n",
      "Epoch 15/100\n",
      "17/17 [==============================] - 2s 129ms/step - loss: 1.6838 - accuracy: 0.4963 - val_loss: 1.6730 - val_accuracy: 0.5000\n",
      "Epoch 16/100\n",
      "17/17 [==============================] - 2s 124ms/step - loss: 1.6586 - accuracy: 0.5083 - val_loss: 1.6454 - val_accuracy: 0.5083\n",
      "Epoch 17/100\n",
      "17/17 [==============================] - 2s 130ms/step - loss: 1.6286 - accuracy: 0.5306 - val_loss: 1.6142 - val_accuracy: 0.5083\n",
      "Epoch 18/100\n",
      "17/17 [==============================] - 2s 130ms/step - loss: 1.5945 - accuracy: 0.5519 - val_loss: 1.5815 - val_accuracy: 0.5250\n",
      "Epoch 19/100\n",
      "17/17 [==============================] - 2s 129ms/step - loss: 1.5552 - accuracy: 0.5611 - val_loss: 1.5414 - val_accuracy: 0.5250\n",
      "Epoch 20/100\n",
      "17/17 [==============================] - 2s 129ms/step - loss: 1.5130 - accuracy: 0.5713 - val_loss: 1.5026 - val_accuracy: 0.5167\n",
      "Epoch 21/100\n",
      "17/17 [==============================] - 2s 129ms/step - loss: 1.4679 - accuracy: 0.5796 - val_loss: 1.4593 - val_accuracy: 0.5250\n",
      "Epoch 22/100\n",
      "17/17 [==============================] - 2s 129ms/step - loss: 1.4223 - accuracy: 0.5880 - val_loss: 1.4162 - val_accuracy: 0.5417\n",
      "Epoch 23/100\n",
      "17/17 [==============================] - 2s 130ms/step - loss: 1.3770 - accuracy: 0.5889 - val_loss: 1.3736 - val_accuracy: 0.5250\n",
      "Epoch 24/100\n",
      "17/17 [==============================] - 2s 129ms/step - loss: 1.3344 - accuracy: 0.6037 - val_loss: 1.3320 - val_accuracy: 0.5333\n",
      "Epoch 25/100\n",
      "17/17 [==============================] - 2s 129ms/step - loss: 1.2922 - accuracy: 0.6037 - val_loss: 1.2929 - val_accuracy: 0.5667\n",
      "Epoch 26/100\n",
      "17/17 [==============================] - 2s 129ms/step - loss: 1.2532 - accuracy: 0.6120 - val_loss: 1.2558 - val_accuracy: 0.5667\n",
      "Epoch 27/100\n",
      "17/17 [==============================] - 2s 129ms/step - loss: 1.2162 - accuracy: 0.6167 - val_loss: 1.2200 - val_accuracy: 0.6000\n",
      "Epoch 28/100\n",
      "17/17 [==============================] - 2s 129ms/step - loss: 1.1805 - accuracy: 0.6222 - val_loss: 1.1837 - val_accuracy: 0.5917\n",
      "Epoch 29/100\n",
      "17/17 [==============================] - 2s 129ms/step - loss: 1.1462 - accuracy: 0.6407 - val_loss: 1.1506 - val_accuracy: 0.5917\n",
      "Epoch 30/100\n",
      "17/17 [==============================] - 2s 135ms/step - loss: 1.1147 - accuracy: 0.6537 - val_loss: 1.1216 - val_accuracy: 0.5917\n",
      "Epoch 31/100\n",
      "17/17 [==============================] - 2s 129ms/step - loss: 1.0843 - accuracy: 0.6565 - val_loss: 1.0941 - val_accuracy: 0.6250\n",
      "Epoch 32/100\n",
      "17/17 [==============================] - 2s 129ms/step - loss: 1.0533 - accuracy: 0.6713 - val_loss: 1.0666 - val_accuracy: 0.6500\n",
      "Epoch 33/100\n",
      "17/17 [==============================] - 2s 130ms/step - loss: 1.0262 - accuracy: 0.6824 - val_loss: 1.0419 - val_accuracy: 0.6500\n",
      "Epoch 34/100\n",
      "17/17 [==============================] - 2s 129ms/step - loss: 1.0018 - accuracy: 0.6926 - val_loss: 1.0184 - val_accuracy: 0.6583\n",
      "Epoch 35/100\n",
      "17/17 [==============================] - 2s 129ms/step - loss: 0.9772 - accuracy: 0.6981 - val_loss: 0.9974 - val_accuracy: 0.6500\n",
      "Epoch 36/100\n",
      "17/17 [==============================] - 2s 124ms/step - loss: 0.9544 - accuracy: 0.7028 - val_loss: 0.9772 - val_accuracy: 0.6500\n",
      "Epoch 37/100\n",
      "17/17 [==============================] - 2s 129ms/step - loss: 0.9337 - accuracy: 0.7065 - val_loss: 0.9581 - val_accuracy: 0.6417\n",
      "Epoch 38/100\n",
      "17/17 [==============================] - 2s 130ms/step - loss: 0.9137 - accuracy: 0.7093 - val_loss: 0.9397 - val_accuracy: 0.6500\n",
      "Epoch 39/100\n",
      "17/17 [==============================] - 2s 129ms/step - loss: 0.8947 - accuracy: 0.7167 - val_loss: 0.9228 - val_accuracy: 0.6583\n",
      "Epoch 40/100\n",
      "17/17 [==============================] - 2s 129ms/step - loss: 0.8767 - accuracy: 0.7222 - val_loss: 0.9053 - val_accuracy: 0.6750\n",
      "Epoch 41/100\n",
      "17/17 [==============================] - 2s 129ms/step - loss: 0.8590 - accuracy: 0.7269 - val_loss: 0.8910 - val_accuracy: 0.6667\n",
      "Epoch 42/100\n",
      "17/17 [==============================] - 2s 129ms/step - loss: 0.8430 - accuracy: 0.7306 - val_loss: 0.8755 - val_accuracy: 0.6750\n",
      "Epoch 43/100\n",
      "17/17 [==============================] - 2s 129ms/step - loss: 0.8274 - accuracy: 0.7380 - val_loss: 0.8630 - val_accuracy: 0.6917\n",
      "Epoch 44/100\n",
      "17/17 [==============================] - 2s 124ms/step - loss: 0.8128 - accuracy: 0.7444 - val_loss: 0.8498 - val_accuracy: 0.6833\n",
      "Epoch 45/100\n",
      "17/17 [==============================] - 2s 129ms/step - loss: 0.7987 - accuracy: 0.7463 - val_loss: 0.8385 - val_accuracy: 0.6917\n",
      "Epoch 46/100\n",
      "17/17 [==============================] - 2s 129ms/step - loss: 0.7855 - accuracy: 0.7491 - val_loss: 0.8255 - val_accuracy: 0.6917\n",
      "Epoch 47/100\n",
      "17/17 [==============================] - 2s 124ms/step - loss: 0.7728 - accuracy: 0.7556 - val_loss: 0.8147 - val_accuracy: 0.7000\n",
      "Epoch 48/100\n",
      "17/17 [==============================] - 2s 130ms/step - loss: 0.7599 - accuracy: 0.7565 - val_loss: 0.8051 - val_accuracy: 0.7000\n",
      "Epoch 49/100\n",
      "17/17 [==============================] - 2s 130ms/step - loss: 0.7482 - accuracy: 0.7630 - val_loss: 0.7956 - val_accuracy: 0.7000\n",
      "Epoch 50/100\n",
      "17/17 [==============================] - 2s 129ms/step - loss: 0.7373 - accuracy: 0.7667 - val_loss: 0.7852 - val_accuracy: 0.7000\n",
      "Epoch 51/100\n",
      "17/17 [==============================] - 2s 129ms/step - loss: 0.7270 - accuracy: 0.7704 - val_loss: 0.7759 - val_accuracy: 0.7000\n",
      "Epoch 52/100\n",
      "17/17 [==============================] - 2s 135ms/step - loss: 0.7160 - accuracy: 0.7722 - val_loss: 0.7684 - val_accuracy: 0.7167\n",
      "Epoch 53/100\n",
      "17/17 [==============================] - 2s 124ms/step - loss: 0.7061 - accuracy: 0.7741 - val_loss: 0.7595 - val_accuracy: 0.7167\n",
      "Epoch 54/100\n",
      "17/17 [==============================] - 2s 130ms/step - loss: 0.6962 - accuracy: 0.7787 - val_loss: 0.7523 - val_accuracy: 0.7250\n",
      "Epoch 55/100\n",
      "17/17 [==============================] - 2s 129ms/step - loss: 0.6863 - accuracy: 0.7815 - val_loss: 0.7451 - val_accuracy: 0.7250\n",
      "Epoch 56/100\n",
      "17/17 [==============================] - 2s 129ms/step - loss: 0.6776 - accuracy: 0.7852 - val_loss: 0.7370 - val_accuracy: 0.7250\n",
      "Epoch 57/100\n",
      "17/17 [==============================] - 2s 125ms/step - loss: 0.6682 - accuracy: 0.7843 - val_loss: 0.7317 - val_accuracy: 0.7250\n"
     ]
    },
    {
     "name": "stdout",
     "output_type": "stream",
     "text": [
      "Epoch 58/100\n",
      "17/17 [==============================] - 2s 129ms/step - loss: 0.6590 - accuracy: 0.7852 - val_loss: 0.7246 - val_accuracy: 0.7250\n",
      "Epoch 59/100\n",
      "17/17 [==============================] - 2s 129ms/step - loss: 0.6508 - accuracy: 0.7898 - val_loss: 0.7179 - val_accuracy: 0.7333\n",
      "Epoch 60/100\n",
      "17/17 [==============================] - 2s 124ms/step - loss: 0.6430 - accuracy: 0.7917 - val_loss: 0.7120 - val_accuracy: 0.7333\n",
      "Epoch 61/100\n",
      "17/17 [==============================] - 2s 124ms/step - loss: 0.6345 - accuracy: 0.7935 - val_loss: 0.7075 - val_accuracy: 0.7333\n",
      "Epoch 62/100\n",
      "17/17 [==============================] - 2s 129ms/step - loss: 0.6261 - accuracy: 0.7981 - val_loss: 0.7029 - val_accuracy: 0.7333\n",
      "Epoch 63/100\n",
      "17/17 [==============================] - 2s 129ms/step - loss: 0.6181 - accuracy: 0.8000 - val_loss: 0.6962 - val_accuracy: 0.7417\n",
      "Epoch 64/100\n",
      "17/17 [==============================] - 2s 129ms/step - loss: 0.6109 - accuracy: 0.8019 - val_loss: 0.6909 - val_accuracy: 0.7417\n",
      "Epoch 65/100\n",
      "17/17 [==============================] - 2s 129ms/step - loss: 0.6036 - accuracy: 0.8009 - val_loss: 0.6858 - val_accuracy: 0.7333\n",
      "Epoch 66/100\n",
      "17/17 [==============================] - 2s 129ms/step - loss: 0.5964 - accuracy: 0.8065 - val_loss: 0.6829 - val_accuracy: 0.7417\n",
      "Epoch 67/100\n",
      "17/17 [==============================] - 2s 129ms/step - loss: 0.5891 - accuracy: 0.8074 - val_loss: 0.6772 - val_accuracy: 0.7417\n",
      "Epoch 68/100\n",
      "17/17 [==============================] - 2s 129ms/step - loss: 0.5822 - accuracy: 0.8074 - val_loss: 0.6737 - val_accuracy: 0.7417\n",
      "Epoch 69/100\n",
      "17/17 [==============================] - 2s 124ms/step - loss: 0.5751 - accuracy: 0.8083 - val_loss: 0.6690 - val_accuracy: 0.7417\n",
      "Epoch 70/100\n",
      "17/17 [==============================] - 2s 129ms/step - loss: 0.5686 - accuracy: 0.8093 - val_loss: 0.6636 - val_accuracy: 0.7417\n",
      "Epoch 71/100\n",
      "17/17 [==============================] - 2s 129ms/step - loss: 0.5617 - accuracy: 0.8130 - val_loss: 0.6593 - val_accuracy: 0.7417\n",
      "Epoch 72/100\n",
      "17/17 [==============================] - 2s 129ms/step - loss: 0.5551 - accuracy: 0.8139 - val_loss: 0.6551 - val_accuracy: 0.7417\n",
      "Epoch 73/100\n",
      "17/17 [==============================] - 2s 124ms/step - loss: 0.5490 - accuracy: 0.8167 - val_loss: 0.6497 - val_accuracy: 0.7417\n",
      "Epoch 74/100\n",
      "17/17 [==============================] - 2s 129ms/step - loss: 0.5425 - accuracy: 0.8194 - val_loss: 0.6482 - val_accuracy: 0.7417\n",
      "Epoch 75/100\n",
      "17/17 [==============================] - 2s 129ms/step - loss: 0.5361 - accuracy: 0.8213 - val_loss: 0.6408 - val_accuracy: 0.7500\n",
      "Epoch 76/100\n",
      "17/17 [==============================] - 2s 129ms/step - loss: 0.5307 - accuracy: 0.8241 - val_loss: 0.6392 - val_accuracy: 0.7500\n",
      "Epoch 77/100\n",
      "17/17 [==============================] - 2s 129ms/step - loss: 0.5247 - accuracy: 0.8259 - val_loss: 0.6332 - val_accuracy: 0.7500\n",
      "Epoch 78/100\n",
      "17/17 [==============================] - 2s 129ms/step - loss: 0.5192 - accuracy: 0.8315 - val_loss: 0.6327 - val_accuracy: 0.7583\n",
      "Epoch 79/100\n",
      "17/17 [==============================] - 2s 129ms/step - loss: 0.5133 - accuracy: 0.8324 - val_loss: 0.6254 - val_accuracy: 0.7583\n",
      "Epoch 80/100\n",
      "17/17 [==============================] - 2s 125ms/step - loss: 0.5084 - accuracy: 0.8361 - val_loss: 0.6254 - val_accuracy: 0.7583\n",
      "Epoch 81/100\n",
      "17/17 [==============================] - 2s 130ms/step - loss: 0.5022 - accuracy: 0.8380 - val_loss: 0.6188 - val_accuracy: 0.7583\n",
      "Epoch 82/100\n",
      "17/17 [==============================] - 2s 129ms/step - loss: 0.4969 - accuracy: 0.8389 - val_loss: 0.6178 - val_accuracy: 0.7583\n",
      "Epoch 83/100\n",
      "17/17 [==============================] - 2s 135ms/step - loss: 0.4916 - accuracy: 0.8435 - val_loss: 0.6109 - val_accuracy: 0.7583\n",
      "Epoch 84/100\n",
      "17/17 [==============================] - 2s 130ms/step - loss: 0.4866 - accuracy: 0.8463 - val_loss: 0.6115 - val_accuracy: 0.7583\n",
      "Epoch 85/100\n",
      "17/17 [==============================] - 2s 129ms/step - loss: 0.4816 - accuracy: 0.8491 - val_loss: 0.6038 - val_accuracy: 0.7583\n",
      "Epoch 86/100\n",
      "17/17 [==============================] - 2s 124ms/step - loss: 0.4766 - accuracy: 0.8546 - val_loss: 0.6028 - val_accuracy: 0.7583\n",
      "Epoch 87/100\n",
      "17/17 [==============================] - 2s 129ms/step - loss: 0.4718 - accuracy: 0.8574 - val_loss: 0.5959 - val_accuracy: 0.7583\n",
      "Epoch 88/100\n",
      "17/17 [==============================] - 2s 124ms/step - loss: 0.4673 - accuracy: 0.8593 - val_loss: 0.5971 - val_accuracy: 0.7667\n",
      "Epoch 89/100\n",
      "17/17 [==============================] - 2s 129ms/step - loss: 0.4620 - accuracy: 0.8593 - val_loss: 0.5906 - val_accuracy: 0.7667\n",
      "Epoch 90/100\n",
      "17/17 [==============================] - 2s 125ms/step - loss: 0.4578 - accuracy: 0.8611 - val_loss: 0.5887 - val_accuracy: 0.7667\n",
      "Epoch 91/100\n",
      "17/17 [==============================] - 2s 129ms/step - loss: 0.4530 - accuracy: 0.8630 - val_loss: 0.5836 - val_accuracy: 0.7750\n",
      "Epoch 92/100\n",
      "17/17 [==============================] - 2s 130ms/step - loss: 0.4486 - accuracy: 0.8667 - val_loss: 0.5841 - val_accuracy: 0.7667\n",
      "Epoch 93/100\n",
      "17/17 [==============================] - 2s 129ms/step - loss: 0.4442 - accuracy: 0.8639 - val_loss: 0.5769 - val_accuracy: 0.7750\n",
      "Epoch 94/100\n",
      "17/17 [==============================] - 2s 124ms/step - loss: 0.4397 - accuracy: 0.8694 - val_loss: 0.5758 - val_accuracy: 0.7750\n",
      "Epoch 95/100\n",
      "17/17 [==============================] - 2s 129ms/step - loss: 0.4354 - accuracy: 0.8694 - val_loss: 0.5717 - val_accuracy: 0.7750\n",
      "Epoch 96/100\n",
      "17/17 [==============================] - 2s 124ms/step - loss: 0.4311 - accuracy: 0.8704 - val_loss: 0.5707 - val_accuracy: 0.7750\n",
      "Epoch 97/100\n",
      "17/17 [==============================] - 2s 124ms/step - loss: 0.4268 - accuracy: 0.8731 - val_loss: 0.5659 - val_accuracy: 0.7667\n",
      "Epoch 98/100\n",
      "17/17 [==============================] - 2s 129ms/step - loss: 0.4227 - accuracy: 0.8750 - val_loss: 0.5641 - val_accuracy: 0.7750\n",
      "Epoch 99/100\n",
      "17/17 [==============================] - 2s 130ms/step - loss: 0.4189 - accuracy: 0.8750 - val_loss: 0.5590 - val_accuracy: 0.7667\n",
      "Epoch 100/100\n",
      "17/17 [==============================] - 2s 129ms/step - loss: 0.4149 - accuracy: 0.8769 - val_loss: 0.5566 - val_accuracy: 0.7667\n"
     ]
    }
   ],
   "source": [
    "train_dataset = tf.data.Dataset.from_tensor_slices((X_train, Y_train)).batch(64)\n",
    "test_dataset = tf.data.Dataset.from_tensor_slices((X_test, Y_test)).batch(64)\n",
    "history = conv_model.fit(train_dataset, epochs=100, validation_data=test_dataset)"
   ]
  },
  {
   "cell_type": "markdown",
   "metadata": {},
   "source": [
    "<a name='5'></a>\n",
    "## 5 - History Object \n",
    "\n",
    "The history object is an output of the `.fit()` operation, and provides a record of all the loss and metric values in memory. It's stored as a dictionary that you can retrieve at `history.history`: "
   ]
  },
  {
   "cell_type": "code",
   "execution_count": 73,
   "metadata": {},
   "outputs": [
    {
     "data": {
      "text/plain": [
       "{'loss': [1.9024400560944168,\n",
       "  1.7911626974741617,\n",
       "  1.7846924137186122,\n",
       "  1.7810367963932179,\n",
       "  1.7783130601600365,\n",
       "  1.7750589300084998,\n",
       "  1.7711596171061197,\n",
       "  1.766495120966876,\n",
       "  1.7607885440190634,\n",
       "  1.7533812787797716,\n",
       "  1.7445224143840647,\n",
       "  1.7337949673334758,\n",
       "  1.720922386204755,\n",
       "  1.7036335503613507,\n",
       "  1.683826375890661,\n",
       "  1.6585709589499014,\n",
       "  1.6285544951756796,\n",
       "  1.594518447805334,\n",
       "  1.5551620342113353,\n",
       "  1.512969285470468,\n",
       "  1.4678636462600143,\n",
       "  1.4222928179634942,\n",
       "  1.3770327594545153,\n",
       "  1.3343685529850147,\n",
       "  1.2921672732741745,\n",
       "  1.2532151972806012,\n",
       "  1.2161522600385877,\n",
       "  1.1804987050868847,\n",
       "  1.1462164057625666,\n",
       "  1.1146722184287177,\n",
       "  1.0842591806694313,\n",
       "  1.0532721704906887,\n",
       "  1.026238156248022,\n",
       "  1.0017613353552641,\n",
       "  0.9772032547880102,\n",
       "  0.9544376801561426,\n",
       "  0.9337287470146461,\n",
       "  0.9136554307407803,\n",
       "  0.8947306535862111,\n",
       "  0.8766979226359615,\n",
       "  0.858963359285284,\n",
       "  0.8430181958057262,\n",
       "  0.8273914151721531,\n",
       "  0.8127597804422731,\n",
       "  0.7987336194073712,\n",
       "  0.7854825333312706,\n",
       "  0.7727517719622011,\n",
       "  0.7598780269976015,\n",
       "  0.7481713370040611,\n",
       "  0.7373053166601393,\n",
       "  0.7269857490504229,\n",
       "  0.715957048645726,\n",
       "  0.7061088372159887,\n",
       "  0.6961956434779697,\n",
       "  0.6862784306208293,\n",
       "  0.6775698326252125,\n",
       "  0.6681987727129901,\n",
       "  0.6590203294047603,\n",
       "  0.6507731949841534,\n",
       "  0.6429692692226834,\n",
       "  0.6344935218493144,\n",
       "  0.626137794830181,\n",
       "  0.6180719163682725,\n",
       "  0.6109085643732989,\n",
       "  0.603626635339525,\n",
       "  0.5963597165213691,\n",
       "  0.5890666308226409,\n",
       "  0.5822481557174966,\n",
       "  0.5750965864570052,\n",
       "  0.5685668826103211,\n",
       "  0.561745587543205,\n",
       "  0.5551041196893762,\n",
       "  0.549010886086358,\n",
       "  0.5425394632198193,\n",
       "  0.5361284507645501,\n",
       "  0.5306733316845365,\n",
       "  0.5246867502177203,\n",
       "  0.5191861059930589,\n",
       "  0.5132517064059222,\n",
       "  0.5083642641703288,\n",
       "  0.5021511985196008,\n",
       "  0.49693241847885977,\n",
       "  0.49161873746801305,\n",
       "  0.4865630703943747,\n",
       "  0.4815592646598816,\n",
       "  0.4766291724310981,\n",
       "  0.4717744509379069,\n",
       "  0.4672731664445665,\n",
       "  0.4620023482375675,\n",
       "  0.4577643083201514,\n",
       "  0.4529742044431192,\n",
       "  0.4486070716822589,\n",
       "  0.44421403717111657,\n",
       "  0.43971179834118596,\n",
       "  0.4354182929904373,\n",
       "  0.4311214330019774,\n",
       "  0.42681880394617716,\n",
       "  0.4227343863911099,\n",
       "  0.4189040431269893,\n",
       "  0.41491448548105025],\n",
       " 'accuracy': [0.16666666666666666,\n",
       "  0.15833333333333333,\n",
       "  0.2037037037037037,\n",
       "  0.27314814814814814,\n",
       "  0.2796296296296296,\n",
       "  0.30185185185185187,\n",
       "  0.3351851851851852,\n",
       "  0.36944444444444446,\n",
       "  0.3861111111111111,\n",
       "  0.42962962962962964,\n",
       "  0.4546296296296296,\n",
       "  0.46111111111111114,\n",
       "  0.46296296296296297,\n",
       "  0.487962962962963,\n",
       "  0.4962962962962963,\n",
       "  0.5083333333333333,\n",
       "  0.5305555555555556,\n",
       "  0.5518518518518518,\n",
       "  0.5611111111111111,\n",
       "  0.5712962962962963,\n",
       "  0.5796296296296296,\n",
       "  0.5879629629629629,\n",
       "  0.5888888888888889,\n",
       "  0.6037037037037037,\n",
       "  0.6037037037037037,\n",
       "  0.612037037037037,\n",
       "  0.6166666666666667,\n",
       "  0.6222222222222222,\n",
       "  0.6407407407407407,\n",
       "  0.6537037037037037,\n",
       "  0.6564814814814814,\n",
       "  0.6712962962962963,\n",
       "  0.6824074074074075,\n",
       "  0.6925925925925925,\n",
       "  0.6981481481481482,\n",
       "  0.7027777777777777,\n",
       "  0.7064814814814815,\n",
       "  0.7092592592592593,\n",
       "  0.7166666666666667,\n",
       "  0.7222222222222222,\n",
       "  0.7268518518518519,\n",
       "  0.7305555555555555,\n",
       "  0.7379629629629629,\n",
       "  0.7444444444444445,\n",
       "  0.7462962962962963,\n",
       "  0.7490740740740741,\n",
       "  0.7555555555555555,\n",
       "  0.7564814814814815,\n",
       "  0.762962962962963,\n",
       "  0.7666666666666667,\n",
       "  0.7703703703703704,\n",
       "  0.7722222222222223,\n",
       "  0.774074074074074,\n",
       "  0.7787037037037037,\n",
       "  0.7814814814814814,\n",
       "  0.7851851851851852,\n",
       "  0.7842592592592592,\n",
       "  0.7851851851851852,\n",
       "  0.7898148148148149,\n",
       "  0.7916666666666666,\n",
       "  0.7935185185185185,\n",
       "  0.7981481481481482,\n",
       "  0.8,\n",
       "  0.8018518518518518,\n",
       "  0.8009259259259259,\n",
       "  0.8064814814814815,\n",
       "  0.8074074074074075,\n",
       "  0.8074074074074075,\n",
       "  0.8083333333333333,\n",
       "  0.8092592592592592,\n",
       "  0.812962962962963,\n",
       "  0.8138888888888889,\n",
       "  0.8166666666666667,\n",
       "  0.8194444444444444,\n",
       "  0.8212962962962963,\n",
       "  0.8240740740740741,\n",
       "  0.825925925925926,\n",
       "  0.8314814814814815,\n",
       "  0.8324074074074074,\n",
       "  0.8361111111111111,\n",
       "  0.8379629629629629,\n",
       "  0.8388888888888889,\n",
       "  0.8435185185185186,\n",
       "  0.8462962962962963,\n",
       "  0.8490740740740741,\n",
       "  0.8546296296296296,\n",
       "  0.8574074074074074,\n",
       "  0.8592592592592593,\n",
       "  0.8592592592592593,\n",
       "  0.8611111111111112,\n",
       "  0.8629629629629629,\n",
       "  0.8666666666666667,\n",
       "  0.8638888888888889,\n",
       "  0.8694444444444445,\n",
       "  0.8694444444444445,\n",
       "  0.8703703703703703,\n",
       "  0.8731481481481481,\n",
       "  0.875,\n",
       "  0.875,\n",
       "  0.8768518518518519],\n",
       " 'val_loss': [1.7993394056955974,\n",
       "  1.7834337790807089,\n",
       "  1.781243093808492,\n",
       "  1.778209964434306,\n",
       "  1.7749986886978149,\n",
       "  1.7711226065953574,\n",
       "  1.7668855905532836,\n",
       "  1.761826475461324,\n",
       "  1.7552653868993124,\n",
       "  1.7477605183919271,\n",
       "  1.7389058430989583,\n",
       "  1.727609133720398,\n",
       "  1.711146362622579,\n",
       "  1.6948758681615195,\n",
       "  1.6730215946833293,\n",
       "  1.6453853766123454,\n",
       "  1.6141560316085815,\n",
       "  1.5815196593602499,\n",
       "  1.541438062985738,\n",
       "  1.5025507767995199,\n",
       "  1.4593350172042847,\n",
       "  1.4162461360295613,\n",
       "  1.3736352364222209,\n",
       "  1.332039745648702,\n",
       "  1.2929495096206665,\n",
       "  1.255832314491272,\n",
       "  1.2200185696283976,\n",
       "  1.1836529890696208,\n",
       "  1.1505590836207071,\n",
       "  1.1216487805048625,\n",
       "  1.0941179196039836,\n",
       "  1.0665618181228638,\n",
       "  1.0419410546620687,\n",
       "  1.0184367100397747,\n",
       "  0.9974138180414835,\n",
       "  0.9771950443585714,\n",
       "  0.9580704251925151,\n",
       "  0.9397197842597962,\n",
       "  0.9227805376052857,\n",
       "  0.9052815079689026,\n",
       "  0.8909767468770345,\n",
       "  0.8754854162534078,\n",
       "  0.8630254030227661,\n",
       "  0.8498050729433696,\n",
       "  0.8385292609532674,\n",
       "  0.8254729549090067,\n",
       "  0.8146793882052104,\n",
       "  0.8051435232162476,\n",
       "  0.7956108172734578,\n",
       "  0.7852463801701863,\n",
       "  0.7759087522824605,\n",
       "  0.7684343338012696,\n",
       "  0.7595026691754659,\n",
       "  0.7523093620936075,\n",
       "  0.7451158881187439,\n",
       "  0.7369908412297567,\n",
       "  0.7316921989123026,\n",
       "  0.7245977361996968,\n",
       "  0.7178691943486532,\n",
       "  0.7120265960693359,\n",
       "  0.7074952522913615,\n",
       "  0.7028592983881633,\n",
       "  0.6962446888287862,\n",
       "  0.6909429232279459,\n",
       "  0.6858138839403788,\n",
       "  0.682873543103536,\n",
       "  0.677219303448995,\n",
       "  0.6737316449483236,\n",
       "  0.6689959565798441,\n",
       "  0.6635947187741598,\n",
       "  0.6592738270759583,\n",
       "  0.6551155924797059,\n",
       "  0.6496743599573771,\n",
       "  0.6481677651405334,\n",
       "  0.640755808353424,\n",
       "  0.6392157435417175,\n",
       "  0.6331529736518859,\n",
       "  0.6326875646909078,\n",
       "  0.6254355629285177,\n",
       "  0.6253864208857218,\n",
       "  0.6188346982002259,\n",
       "  0.6178400794665019,\n",
       "  0.6109013001124064,\n",
       "  0.6114871104558309,\n",
       "  0.6037553429603577,\n",
       "  0.6027566830317179,\n",
       "  0.595918846130371,\n",
       "  0.597051187356313,\n",
       "  0.5906058430671692,\n",
       "  0.5887364745140076,\n",
       "  0.5836273948351542,\n",
       "  0.5840799927711486,\n",
       "  0.5769156018892924,\n",
       "  0.5757744391759236,\n",
       "  0.5717358589172363,\n",
       "  0.5707305312156677,\n",
       "  0.5659029444058736,\n",
       "  0.5640848477681478,\n",
       "  0.5589901049931844,\n",
       "  0.5565729935963949],\n",
       " 'val_accuracy': [0.15,\n",
       "  0.21666666666666667,\n",
       "  0.26666666666666666,\n",
       "  0.25833333333333336,\n",
       "  0.2833333333333333,\n",
       "  0.35833333333333334,\n",
       "  0.4083333333333333,\n",
       "  0.375,\n",
       "  0.4083333333333333,\n",
       "  0.49166666666666664,\n",
       "  0.48333333333333334,\n",
       "  0.475,\n",
       "  0.49166666666666664,\n",
       "  0.5,\n",
       "  0.5,\n",
       "  0.5083333333333333,\n",
       "  0.5083333333333333,\n",
       "  0.525,\n",
       "  0.525,\n",
       "  0.5166666666666667,\n",
       "  0.525,\n",
       "  0.5416666666666666,\n",
       "  0.525,\n",
       "  0.5333333333333333,\n",
       "  0.5666666666666667,\n",
       "  0.5666666666666667,\n",
       "  0.6,\n",
       "  0.5916666666666667,\n",
       "  0.5916666666666667,\n",
       "  0.5916666666666667,\n",
       "  0.625,\n",
       "  0.65,\n",
       "  0.65,\n",
       "  0.6583333333333333,\n",
       "  0.65,\n",
       "  0.65,\n",
       "  0.6416666666666667,\n",
       "  0.65,\n",
       "  0.6583333333333333,\n",
       "  0.675,\n",
       "  0.6666666666666666,\n",
       "  0.675,\n",
       "  0.6916666666666667,\n",
       "  0.6833333333333333,\n",
       "  0.6916666666666667,\n",
       "  0.6916666666666667,\n",
       "  0.7,\n",
       "  0.7,\n",
       "  0.7,\n",
       "  0.7,\n",
       "  0.7,\n",
       "  0.7166666666666667,\n",
       "  0.7166666666666667,\n",
       "  0.725,\n",
       "  0.725,\n",
       "  0.725,\n",
       "  0.725,\n",
       "  0.725,\n",
       "  0.7333333333333333,\n",
       "  0.7333333333333333,\n",
       "  0.7333333333333333,\n",
       "  0.7333333333333333,\n",
       "  0.7416666666666667,\n",
       "  0.7416666666666667,\n",
       "  0.7333333333333333,\n",
       "  0.7416666666666667,\n",
       "  0.7416666666666667,\n",
       "  0.7416666666666667,\n",
       "  0.7416666666666667,\n",
       "  0.7416666666666667,\n",
       "  0.7416666666666667,\n",
       "  0.7416666666666667,\n",
       "  0.7416666666666667,\n",
       "  0.7416666666666667,\n",
       "  0.75,\n",
       "  0.75,\n",
       "  0.75,\n",
       "  0.7583333333333333,\n",
       "  0.7583333333333333,\n",
       "  0.7583333333333333,\n",
       "  0.7583333333333333,\n",
       "  0.7583333333333333,\n",
       "  0.7583333333333333,\n",
       "  0.7583333333333333,\n",
       "  0.7583333333333333,\n",
       "  0.7583333333333333,\n",
       "  0.7583333333333333,\n",
       "  0.7666666666666667,\n",
       "  0.7666666666666667,\n",
       "  0.7666666666666667,\n",
       "  0.775,\n",
       "  0.7666666666666667,\n",
       "  0.775,\n",
       "  0.775,\n",
       "  0.775,\n",
       "  0.775,\n",
       "  0.7666666666666667,\n",
       "  0.775,\n",
       "  0.7666666666666667,\n",
       "  0.7666666666666667]}"
      ]
     },
     "execution_count": 73,
     "metadata": {},
     "output_type": "execute_result"
    }
   ],
   "source": [
    "history.history"
   ]
  },
  {
   "cell_type": "markdown",
   "metadata": {},
   "source": [
    "Now visualize the loss over time using `history.history`: "
   ]
  },
  {
   "cell_type": "code",
   "execution_count": 74,
   "metadata": {},
   "outputs": [
    {
     "data": {
      "text/plain": [
       "[Text(0, 0.5, 'Accuracy'), Text(0.5, 0, 'Epoch')]"
      ]
     },
     "execution_count": 74,
     "metadata": {},
     "output_type": "execute_result"
    },
    {
     "data": {
      "image/png": "[encoded data removed]",
      "text/plain": [
       "<Figure size 864x576 with 1 Axes>"
      ]
     },
     "metadata": {
      "needs_background": "light"
     },
     "output_type": "display_data"
    },
    {
     "data": {
      "image/png": "[encoded data removed]",
      "text/plain": [
       "<Figure size 864x576 with 1 Axes>"
      ]
     },
     "metadata": {
      "needs_background": "light"
     },
     "output_type": "display_data"
    }
   ],
   "source": [
    "# The history.history[\"loss\"] entry is a dictionary with as many values as epochs that the\n",
    "# model was trained on. \n",
    "df_loss_acc = pd.DataFrame(history.history)\n",
    "df_loss= df_loss_acc[['loss','val_loss']]\n",
    "df_loss.rename(columns={'loss':'train','val_loss':'validation'},inplace=True)\n",
    "df_acc= df_loss_acc[['accuracy','val_accuracy']]\n",
    "df_acc.rename(columns={'accuracy':'train','val_accuracy':'validation'},inplace=True)\n",
    "df_loss.plot(title='Model loss',figsize=(12,8)).set(xlabel='Epoch',ylabel='Loss')\n",
    "df_acc.plot(title='Model Accuracy',figsize=(12,8)).set(xlabel='Epoch',ylabel='Accuracy')"
   ]
  },
  {
   "cell_type": "markdown",
   "metadata": {},
   "source": [
    "**Congratulations**! You've finished the assignment and built two models: One that recognizes  smiles, and another that recognizes SIGN language with almost 80% accuracy on the test set. In addition to that, you now also understand the applications of two Keras APIs: Sequential and Functional. Nicely done! \n",
    "\n",
    "By now, you know a bit about how the Functional API works and may have glimpsed the possibilities. In your next assignment, you'll really get a feel for its power when you get the opportunity to build a very deep ConvNet, using ResNets! "
   ]
  },
  {
   "cell_type": "markdown",
   "metadata": {},
   "source": [
    "<a name='6'></a>\n",
    "## 6 - Bibliography\n",
    "\n",
    "You're always encouraged to read the official documentation. To that end, you can find the docs for the Sequential and Functional APIs here: \n",
    "\n",
    "https://www.tensorflow.org/guide/keras/sequential_model\n",
    "\n",
    "https://www.tensorflow.org/guide/keras/functional"
   ]
  },
  {
   "cell_type": "code",
   "execution_count": null,
   "metadata": {},
   "outputs": [],
   "source": []
  }
 ],
 "metadata": {
  "coursera": {
   "course_slug": "convolutional-neural-networks",
   "graded_item_id": "bwbJV",
   "launcher_item_id": "0TkXB"
  },
  "kernelspec": {
   "display_name": "Python 3",
   "language": "python",
   "name": "python3"
  },
  "language_info": {
   "codemirror_mode": {
    "name": "ipython",
    "version": 3
   },
   "file_extension": ".py",
   "mimetype": "text/x-python",
   "name": "python",
   "nbconvert_exporter": "python",
   "pygments_lexer": "ipython3",
   "version": "3.7.6"
  }
 },
 "nbformat": 4,
 "nbformat_minor": 2
}
